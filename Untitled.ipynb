{
 "cells": [
  {
   "cell_type": "code",
   "execution_count": 1,
   "id": "028be931-f4b6-4e46-a184-a9e80ec4725b",
   "metadata": {},
   "outputs": [
    {
     "name": "stdout",
     "output_type": "stream",
     "text": [
      "\n",
      "A tuple is returned, 1st vlues is urls, 2nd value is BeautifulSoup object\n",
      "\n",
      "\n",
      "---- Starting download_thumbnails ........\n",
      "\n",
      "---- Starting download_videos ........\n"
     ]
    }
   ],
   "source": [
    "import get_soup_object_using_selenium\n",
    "import multiprocessing.dummy\n",
    "import subprocess\n",
    "import os\n",
    "\n",
    "def get_mapping(urls):\n",
    "    mapping = {}\n",
    "    for vid in urls:\n",
    "    #     print(vid)\n",
    "        try:\n",
    "            mapping[vid] = [list(os.popen(f\"youtube-dl --restrict-filenames --get-filename {vid}\"))[0].strip()]\n",
    "        except:\n",
    "            mapping[vid] = 'Error'\n",
    "    #         print(f\"Error in {vid} ......... !!!!!!!!!!!!!!!!!\")\n",
    "    return mapping\n",
    "\n",
    "def download_thumbnails(urls):\n",
    "    global mapping\n",
    "    print(\"\\n---- Starting download_thumbnails ........\")\n",
    "    for i in urls:\n",
    "        try:\n",
    "            com = f\"youtube-dl --no-playlist {i} --list-thumbnails\"\n",
    "            thumbnail = \"http\" + list(os.popen(com))[-1].split(\"http\")[1]\n",
    "            img_name = thumbnail.strip().replace('/', '_')\n",
    "            mapping[i].append(img_name)\n",
    "            com = f\"curl {thumbnail.strip()} > thumbnail/{img_name}\"\n",
    "            os.system(com)\n",
    "        except:\n",
    "            mapping[i].append(\"Error\")\n",
    "\n",
    "def download_videos(url):\n",
    "    try:\n",
    "        subprocess.check_call(['Youtube_dl', '--restrict-filenames', url])\n",
    "        open(\"downloaded.txt\", \"a\").write(url+\"\\n\")\n",
    "    except:\n",
    "        pass\n",
    "\n",
    "\n",
    "x = get_soup_object_using_selenium.get_soup_object_using_selenium(\"https://www.youtube.com/c/robocarpoli/videos\")[0]\n",
    "urls = ['https://www.youtube.com'+i for i in x if i.startswith(\"/watch?\")]\n",
    "downloaded = open(\"downloaded.txt\", 'r').read().splitlines()\n",
    "vids_to_download = [i for i in urls if not i in downloaded]\n",
    "\n",
    "mapping = get_mapping(vids_to_download)\n",
    "download_thumbnails(vids_to_download)\n",
    "\n",
    "for k,v in mapping.items():\n",
    "    if (v[0] == 'Error') or (v[1] == 'Error'):\n",
    "        mapping.pop(k)\n",
    "\n",
    "if len(mapping):\n",
    "    p = multiprocessing.dummy.Pool()\n",
    "    print(\"\\n---- Starting download_videos ........\")\n",
    "    p.map(download_videos, list(mapping.keys()))"
   ]
  },
  {
   "cell_type": "code",
   "execution_count": null,
   "id": "fbd4bb18-f736-4beb-8223-11812bb93c53",
   "metadata": {},
   "outputs": [],
   "source": []
  },
  {
   "cell_type": "code",
   "execution_count": null,
   "id": "8604cfcf-57a5-4266-84da-683c939a3527",
   "metadata": {},
   "outputs": [],
   "source": []
  },
  {
   "cell_type": "code",
   "execution_count": null,
   "id": "f981ee11-0a3e-4233-910a-f27e35b11511",
   "metadata": {},
   "outputs": [],
   "source": []
  },
  {
   "cell_type": "code",
   "execution_count": null,
   "id": "f704d310-4cb3-4db3-b999-190cc1e31fc5",
   "metadata": {},
   "outputs": [],
   "source": []
  },
  {
   "cell_type": "code",
   "execution_count": null,
   "id": "506ce858-0b8a-4844-8587-35cf98cb6c2d",
   "metadata": {},
   "outputs": [],
   "source": []
  },
  {
   "cell_type": "code",
   "execution_count": null,
   "id": "30e634ef-aedc-45ac-bd3f-ac67002cb51b",
   "metadata": {},
   "outputs": [],
   "source": []
  },
  {
   "cell_type": "code",
   "execution_count": null,
   "id": "43f0016f-0714-40d1-8f99-81b2ee5d0d6c",
   "metadata": {},
   "outputs": [],
   "source": []
  },
  {
   "cell_type": "code",
   "execution_count": null,
   "id": "38b71636-149e-48ba-978b-ffa613fa5bc1",
   "metadata": {},
   "outputs": [],
   "source": []
  },
  {
   "cell_type": "code",
   "execution_count": null,
   "id": "a45d8389-8479-4128-9df6-2dd727a73c30",
   "metadata": {},
   "outputs": [],
   "source": []
  },
  {
   "cell_type": "code",
   "execution_count": null,
   "id": "db27997e-69d8-4562-a2a5-d02a2c2238b7",
   "metadata": {},
   "outputs": [],
   "source": []
  },
  {
   "cell_type": "code",
   "execution_count": null,
   "id": "da1ad7a7-390e-42fb-88ed-b38f887ef6fc",
   "metadata": {},
   "outputs": [],
   "source": []
  },
  {
   "cell_type": "code",
   "execution_count": null,
   "id": "72c64661-54a9-4884-a102-ab706bb27b4d",
   "metadata": {},
   "outputs": [],
   "source": []
  },
  {
   "cell_type": "code",
   "execution_count": 1,
   "id": "68f1b7c3-66cc-457d-8603-7651955eda55",
   "metadata": {},
   "outputs": [
    {
     "data": {
      "text/plain": [
       "{'https://www.youtube.com/watch?v=8Yzyz2_8lXY': ['Learn_about_Safety_Tips_with_POLI_AMBER_Robocar_POLI_Episodes_Cartoon_for_Kids_Robocar_POLI_TV-8Yzyz2_8lXY.mp4',\n",
       "  'https:__i.ytimg.com_vi_8Yzyz2_8lXY_maxresdefault.jpg'],\n",
       " 'https://www.youtube.com/watch?v=ToQUefI-4_c': ['Birthday_Party_Songs_for_Kids_Happy_Birthday_to_You_+_SongSong_Museum_Robocar_POLI_TV-ToQUefI-4_c.mp4',\n",
       "  'https:__i.ytimg.com_vi_ToQUefI-4_c_maxresdefault.jpg'],\n",
       " 'https://www.youtube.com/watch?v=aDPID-MBPW4': ['Learn_About_Fire_Safety_Tips_for_Children_Robocar_POLI_Parenting_Help_Robocar_POLI_TV-aDPID-MBPW4.mp4',\n",
       "  'https:__i.ytimg.com_vi_aDPID-MBPW4_maxresdefault.jpg'],\n",
       " 'https://www.youtube.com/watch?v=II76cmTWzsw': ['Robocar_POLI_Season_1_Full_Version_Ep.14~Ep.26_Nonstop_Cartoon_for_Kids_Robocar_POLI_TV-II76cmTWzsw.mp4',\n",
       "  'https:__i.ytimg.com_vi_II76cmTWzsw_maxresdefault.jpg'],\n",
       " 'https://www.youtube.com/watch?v=8PzJiZtI0lY': ['Robocar_POLI_Season_2_Full_Episodes_Ep.1~Ep.13_Nonstop_Play_Cartoon_for_Kids_Robocar_POLI_TV-8PzJiZtI0lY.mp4',\n",
       "  'https:__i.ytimg.com_vi_8PzJiZtI0lY_maxresdefault.jpg'],\n",
       " 'https://www.youtube.com/watch?v=ctNMd39FLFs': ['Robocar_POLI_S1_Clip_Ep.14~Ep.26_1_Hour_Cartoon_for_Kids_Robocar_POLI_TV-ctNMd39FLFs.mp4',\n",
       "  'https:__i.ytimg.com_vi_ctNMd39FLFs_maxresdefault.jpg'],\n",
       " 'https://www.youtube.com/watch?v=XLhLy7tz3zI': ['Good_Healthy_Habits_Songs_for_Children_60_Min_Compilation_Robocar_POLI_TV-XLhLy7tz3zI.mp4',\n",
       "  'https:__i.ytimg.com_vi_XLhLy7tz3zI_maxresdefault.jpg'],\n",
       " 'https://www.youtube.com/watch?v=n-lz4Kfv87U': ['Jin_s_Wonderful_Tools_Robocar_POLI_TOP_3_Cartoon_for_Kids_Robocar_POLI_TV-n-lz4Kfv87U.webm',\n",
       "  'https:__i.ytimg.com_vi_n-lz4Kfv87U_maxresdefault.jpg'],\n",
       " 'https://www.youtube.com/watch?v=aDMVmMo0p7Y': ['EP01-EP06_Traffic_Safety_with_POLI_Fire_Safety_with_ROY_Robocar_POLI_TV-aDMVmMo0p7Y.mp4',\n",
       "  'https:__i.ytimg.com_vi_aDMVmMo0p7Y_maxresdefault.jpg'],\n",
       " 'https://www.youtube.com/watch?v=Wf-Z1F6bCXc': ['Robocar_POLI_Season_2_Full_Episodes_Mini_s_Present_+_Cartoon_for_Kids_Robocar_POLI_TV-Wf-Z1F6bCXc.mp4',\n",
       "  'https:__i.ytimg.com_vi_Wf-Z1F6bCXc_maxresdefault.jpg'],\n",
       " 'https://www.youtube.com/watch?v=zQjSMbzgOEk': ['Learn_about_Safety_Tips_with_Amber_Roy_Robocar_POLI_Episodes_Cartoon_for_Kids_Robocar_POLI_TV-zQjSMbzgOEk.mp4',\n",
       "  'https:__i.ytimg.com_vi_zQjSMbzgOEk_maxresdefault.jpg'],\n",
       " 'https://www.youtube.com/watch?v=oyXQj0HDlt0': ['Robocar_POLI_S1_Clip_Ep.1~Ep.13_1_Hour_Cartoon_for_Kids_Robocar_POLI_TV-oyXQj0HDlt0.mp4',\n",
       "  'https:__i.ytimg.com_vi_oyXQj0HDlt0_maxresdefault.jpg'],\n",
       " 'https://www.youtube.com/watch?v=EtXtCCusnVM': ['Robocar_POLI_Has_Turned_Gold_Robocar_POLI_TV_Shorts-EtXtCCusnVM.mp4',\n",
       "  'https:__i.ytimg.com_vi_EtXtCCusnVM_maxresdefault.jpg'],\n",
       " 'https://www.youtube.com/watch?v=HWjFq9-9vdY': ['Robocar_POLI_Season_1_Full_Version_Ep.1~Ep.13_Nonstop_Play_Cartoon_for_Kids_Robocar_POLI_TV-HWjFq9-9vdY.mp4',\n",
       "  'https:__i.ytimg.com_vi_HWjFq9-9vdY_maxresdefault.jpg'],\n",
       " 'https://www.youtube.com/watch?v=s1N-rRD4EtI': ['For_Children_Who_Needs_A_Habit_of_Tidying_Up_Robocar_POLI_Parenting_Help_Robocar_POLI_TV-s1N-rRD4EtI.mp4',\n",
       "  'https:__i.ytimg.com_vi_s1N-rRD4EtI_maxresdefault.jpg'],\n",
       " 'https://www.youtube.com/watch?v=B5x1uiVuSWQ': ['LIVE_Robocar_POLI_Full_Episodes_Non_Stop_24_7_Rescue_Episodes_Robocar_POLI_TV_2021-07-25_18_41-B5x1uiVuSWQ.mp4',\n",
       "  'https:__i.ytimg.com_vi_B5x1uiVuSWQ_maxresdefault.jpg?v=60f68fad'],\n",
       " 'https://www.youtube.com/watch?v=9RiRXSv3NoQ': ['Learn_Colors_with_Robocar_POLI_Characters_Learning_Videos_for_Kids_Robocar_POLI_TV-9RiRXSv3NoQ.mp4',\n",
       "  'https:__i.ytimg.com_vi_9RiRXSv3NoQ_maxresdefault.jpg'],\n",
       " 'https://www.youtube.com/watch?v=tGcLF5uqdUI': ['LIVE_It_s_Robocar_POLI_Time_24_7_Non-Stop_Live_2021-07-25_18_41-tGcLF5uqdUI.mp4',\n",
       "  'https:__i.ytimg.com_vi_tGcLF5uqdUI_maxresdefault.jpg?v=60f13b6d'],\n",
       " 'https://www.youtube.com/watch?v=xbYslfgvJas': ['Robocar_POLI_Educational_Nursery_Rhymes_Vol.1_21_Songs_Songs_for_Children_Robocar_POLI_TV-xbYslfgvJas.webm',\n",
       "  'https:__i.ytimg.com_vi_xbYslfgvJas_maxresdefault.jpg'],\n",
       " 'https://www.youtube.com/watch?v=FvKkcNmk9D4': ['LIVE_Robocar_POLI_SongSong_Museum_Medley_Nonstop_24_7_Nursery_Rhymes_Robocar_POLI_TV_2021-07-25_18_41-FvKkcNmk9D4.mp4',\n",
       "  'https:__i.ytimg.com_vi_FvKkcNmk9D4_maxresdefault.jpg?v=60f7d1da'],\n",
       " 'https://www.youtube.com/watch?v=43mFp8pdKPQ': ['Robocar_POLI_Season_1_Full_Episode_60min_Regular_Checkup_Day_Cartoon_for_Kids_Robocar_POLI_TV-43mFp8pdKPQ.mp4',\n",
       "  'https:__i.ytimg.com_vi_43mFp8pdKPQ_maxresdefault.jpg'],\n",
       " 'https://www.youtube.com/watch?v=b9QIjbqT2ZE': ['Summer_Safety_Tips_4_eps_Daily_Life_Safety_with_Amber_Cartoon_for_Children_Robocar_POLI_TV-b9QIjbqT2ZE.mp4',\n",
       "  'https:__i.ytimg.com_vi_b9QIjbqT2ZE_maxresdefault.jpg'],\n",
       " 'https://www.youtube.com/watch?v=_QTCXGbQikE': ['Robocar_POLI_Season_2_60min_Harmony_of_Brooms_Town_Cartoon_for_Kids_Robocar_POLI_TV-_QTCXGbQikE.mp4',\n",
       "  'https:__i.ytimg.com_vi__QTCXGbQikE_maxresdefault.jpg'],\n",
       " 'https://www.youtube.com/watch?v=HrvrN6Um3sg': ['Robocar_POLI_Toy_Playing_Video_Rescue_Headquarters_Playset_Robocar_POLI_TV-HrvrN6Um3sg.mp4',\n",
       "  'https:__i.ytimg.com_vi_HrvrN6Um3sg_maxresdefault.jpg'],\n",
       " 'https://www.youtube.com/watch?v=nZIEPE7SWls': ['Learn_about_Safety_Tips_with_POLI_AMBER_and_ROY_Robocar_POLI_Safety_Episodes_Robocar_POLI_TV-nZIEPE7SWls.mp4',\n",
       "  'https:__i.ytimg.com_vi_nZIEPE7SWls_maxresdefault.jpg'],\n",
       " 'https://www.youtube.com/watch?v=skG7l8Bjxrk': ['Robocar_POLI_Music_Box_Lullaby_Vol.1_100_Min_Baby_Lullaby_Songs_Robocar_POLI_TV-skG7l8Bjxrk.webm',\n",
       "  'https:__i.ytimg.com_vi_skG7l8Bjxrk_maxresdefault.jpg'],\n",
       " 'https://www.youtube.com/watch?v=kNjTNRiC5Ak': ['The_Golden_Ax_And_The_Silver_Ax_Aesop_s_Fables_+Compilation_Story_for_Kids_Robocar_POLI_TV-kNjTNRiC5Ak.webm',\n",
       "  'https:__i.ytimg.com_vi_kNjTNRiC5Ak_hqdefault.jpg?sqp=-oaymwEcCNACELwBSFXyq4qpAw4IARUAAIhCGAFwAcABBg==&rs=AOn4CLAjOfAThcQrXx9mU_Wo9zTv9eq0Rg'],\n",
       " 'https://www.youtube.com/watch?v=m2N7HewklzY': ['Robocar_POLI_S2_Clip_Ep.1~Ep.13_1_Hour_Cartoon_for_Kids_Robocar_POLI_TV-m2N7HewklzY.mp4',\n",
       "  'https:__i.ytimg.com_vi_m2N7HewklzY_maxresdefault.jpg'],\n",
       " 'https://www.youtube.com/watch?v=qbryu9JW42I': ['Robocar_POLI_Opening_Summer_Version_Songs_for_Children_Robocar_POLI_TV-qbryu9JW42I.mp4',\n",
       "  'https:__i.ytimg.com_vi_qbryu9JW42I_maxresdefault.jpg'],\n",
       " 'https://www.youtube.com/watch?v=OAvk45TWRnk': ['Brooms_Party_Robocar_POLI_SongSong_Museum_Nursery_Rhymes_Robocar_POLI_TV-OAvk45TWRnk.mp4',\n",
       "  'https:__i.ytimg.com_vi_OAvk45TWRnk_maxresdefault.jpg']}"
      ]
     },
     "execution_count": 1,
     "metadata": {},
     "output_type": "execute_result"
    }
   ],
   "source": [
    "import pickle\n",
    "x = pickle.load(open(\"/home/amir/github/temp_work/JANGO/kids_youtuebe_app/mapping.pkl\", 'rb'))\n",
    "x"
   ]
  },
  {
   "cell_type": "code",
   "execution_count": 14,
   "id": "8bf9816e-3d9c-4df5-ac5b-c752ee0b9ff4",
   "metadata": {},
   "outputs": [
    {
     "data": {
      "text/plain": [
       "7745"
      ]
     },
     "execution_count": 14,
     "metadata": {},
     "output_type": "execute_result"
    }
   ],
   "source": [
    "s = \"\"\"<!DOCTYPE html><html><body><div id=\"contents\">\"\"\"\n",
    "def func_(vid, img):\n",
    "    return f\"\"\"\\n<video width=\"320\" height=\"240\" controls  poster=\"{img}\"><source src=\"{vid}\" type=\"video/mp4\"></source></video>\"\"\"\n",
    "for k,v in x.items():\n",
    "    s += func_(*v)\n",
    "\n",
    "s += \"\\n</div></body></html>\"\n",
    "open(\"x.html\", 'w').write(s)"
   ]
  },
  {
   "cell_type": "code",
   "execution_count": 11,
   "id": "c33d63f3-0925-4ebf-b4c6-b9f2e1a05887",
   "metadata": {},
   "outputs": [],
   "source": [
    "\n",
    "# !firefox x.m"
   ]
  },
  {
   "cell_type": "code",
   "execution_count": null,
   "id": "6b560cf4-e0c5-42f0-b64b-84280b52dbeb",
   "metadata": {},
   "outputs": [],
   "source": []
  }
 ],
 "metadata": {
  "kernelspec": {
   "display_name": "Python 3",
   "language": "python",
   "name": "python3"
  },
  "language_info": {
   "codemirror_mode": {
    "name": "ipython",
    "version": 3
   },
   "file_extension": ".py",
   "mimetype": "text/x-python",
   "name": "python",
   "nbconvert_exporter": "python",
   "pygments_lexer": "ipython3",
   "version": "3.8.10"
  }
 },
 "nbformat": 4,
 "nbformat_minor": 5
}
